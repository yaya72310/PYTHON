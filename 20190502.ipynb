{
 "cells": [
  {
   "cell_type": "markdown",
   "metadata": {},
   "source": [
    "# 流程控制"
   ]
  },
  {
   "cell_type": "code",
   "execution_count": 2,
   "metadata": {},
   "outputs": [
    {
     "name": "stdout",
     "output_type": "stream",
     "text": [
      "請輸入攝氏溫度:25\n",
      "華氏溫度: 77.0\n"
     ]
    }
   ],
   "source": [
    "celsius=float(input('請輸入攝氏溫度:'))\n",
    "fahrenhit=(9/5)*celsius+32\n",
    "print('華氏溫度:',fahrenhit)"
   ]
  },
  {
   "cell_type": "code",
   "execution_count": 3,
   "metadata": {},
   "outputs": [
    {
     "name": "stdout",
     "output_type": "stream",
     "text": [
      "樣本 [5, 8, 9, 6, 4, 1, 2, 3, 5, 6]\n",
      "平均數 4.9\n",
      "最大數 9\n",
      "最小數 1\n",
      "變異數 6.322222222222222\n",
      "標準差 2.5144029554194813\n"
     ]
    }
   ],
   "source": [
    "import statistics as st\n",
    "sample=[5,8,9,6,4,1,2,3,5,6]\n",
    "print('樣本',sample)\n",
    "print('平均數',st.mean(sample))\n",
    "print('最大數',max(sample))\n",
    "print('最小數',min(sample))\n",
    "print('變異數',st.variance(sample))\n",
    "print('標準差',st.stdev(sample))"
   ]
  },
  {
   "cell_type": "code",
   "execution_count": 18,
   "metadata": {},
   "outputs": [
    {
     "name": "stdout",
     "output_type": "stream",
     "text": [
      "請輸入a:6\n",
      "請輸入b:6\n",
      "a=b\n"
     ]
    }
   ],
   "source": [
    "# if\n",
    "numA=int(input('請輸入a:'))\n",
    "numB=int(input('請輸入b:'))\n",
    "if numA<numB:\n",
    "    print('a大於b')\n",
    "elif numA>numB:\n",
    "        print('b大於a')\n",
    "else:\n",
    "     print('a=b')\n"
   ]
  },
  {
   "cell_type": "code",
   "execution_count": 16,
   "metadata": {},
   "outputs": [
    {
     "name": "stdout",
     "output_type": "stream",
     "text": [
      "總和 55\n"
     ]
    }
   ],
   "source": [
    "#for\n",
    "sum = 0\n",
    "for i in range(1, 11):\n",
    "    sum = sum + i\n",
    "print('總和',sum)"
   ]
  },
  {
   "cell_type": "code",
   "execution_count": 17,
   "metadata": {},
   "outputs": [
    {
     "name": "stdout",
     "output_type": "stream",
     "text": [
      "總和 49\n"
     ]
    }
   ],
   "source": [
    "sample = [5,8,9,6,4,1,2,3,5,6]\n",
    "sum = 0\n",
    "for i in sample:\n",
    "    sum = sum + i\n",
    "print('總和',sum)"
   ]
  },
  {
   "cell_type": "markdown",
   "metadata": {},
   "source": [
    "#隨堂練習"
   ]
  },
  {
   "cell_type": "code",
   "execution_count": 21,
   "metadata": {},
   "outputs": [
    {
     "name": "stdout",
     "output_type": "stream",
     "text": [
      "rabbit 12 隻\n",
      "chicken 23 隻\n"
     ]
    }
   ],
   "source": [
    "head = 35\n",
    "leg = 94\n",
    "for rabbit in range(0, head+1):\n",
    "    chincken = head - rabbit\n",
    "    if((rabbit*4+chincken*2)==94):\n",
    "        print('rabbit',rabbit,'隻')\n",
    "        print('chicken',chincken,'隻')"
   ]
  },
  {
   "cell_type": "code",
   "execution_count": 22,
   "metadata": {},
   "outputs": [
    {
     "name": "stdout",
     "output_type": "stream",
     "text": [
      "i\n",
      " \n",
      "l\n",
      "o\n",
      "v\n",
      "e\n",
      " \n",
      "a\n",
      "v\n",
      "e\n",
      "n\n",
      "g\n",
      "e\n",
      "r\n",
      "s\n",
      " \n",
      "I\n",
      "V\n"
     ]
    }
   ],
   "source": [
    "mylist='i love avengers IV'\n",
    "for character in mylist:\n",
    "    print(character)"
   ]
  },
  {
   "cell_type": "code",
   "execution_count": null,
   "metadata": {},
   "outputs": [],
   "source": []
  }
 ],
 "metadata": {
  "kernelspec": {
   "display_name": "Python 3",
   "language": "python",
   "name": "python3"
  },
  "language_info": {
   "codemirror_mode": {
    "name": "ipython",
    "version": 3
   },
   "file_extension": ".py",
   "mimetype": "text/x-python",
   "name": "python",
   "nbconvert_exporter": "python",
   "pygments_lexer": "ipython3",
   "version": "3.7.1"
  }
 },
 "nbformat": 4,
 "nbformat_minor": 2
}
