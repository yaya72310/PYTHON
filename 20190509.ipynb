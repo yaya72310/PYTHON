{
 "cells": [
  {
   "cell_type": "markdown",
   "metadata": {},
   "source": [
    "# while迴圈\n",
    "# 1+2+3..+10總和"
   ]
  },
  {
   "cell_type": "code",
   "execution_count": null,
   "metadata": {},
   "outputs": [],
   "source": [
    "sum =0\n",
    "count =1\n",
    "while count <=10:\n",
    "    sum =sum +count # sum+=count\n",
    "    count = count+1 # count+=1\n",
    "print(\"1+2+3+....+10:\",sum)"
   ]
  },
  {
   "cell_type": "markdown",
   "metadata": {},
   "source": [
    "# 銀行利息範例"
   ]
  },
  {
   "cell_type": "code",
   "execution_count": null,
   "metadata": {},
   "outputs": [],
   "source": [
    "x=10000\n",
    "y=0\n",
    "while x <20000:\n",
    "    y+=1\n",
    "    x=x*1.0104\n",
    "print(str(y),\"年後會翻倍\")"
   ]
  },
  {
   "cell_type": "markdown",
   "metadata": {},
   "source": [
    "# 帳密程式"
   ]
  },
  {
   "cell_type": "code",
   "execution_count": null,
   "metadata": {},
   "outputs": [],
   "source": [
    "id=\"tony\"\n",
    "pwd=\"1234\"\n",
    "while True :\n",
    "    x=input('請輸入帳號')\n",
    "    y=input('請輸入帳號')\n",
    "    if(x==id and y== pwd):\n",
    "        print(\"成功\")\n",
    "        break\n",
    "    else:\n",
    "        print(\"失敗\")"
   ]
  },
  {
   "cell_type": "markdown",
   "metadata": {},
   "source": [
    "# break continue pass 範例"
   ]
  },
  {
   "cell_type": "code",
   "execution_count": 11,
   "metadata": {},
   "outputs": [
    {
     "name": "stdout",
     "output_type": "stream",
     "text": [
      "c#\n",
      "python\n"
     ]
    }
   ],
   "source": [
    "mylist=['c#','python','java','c++']\n",
    "for i in mylist:\n",
    "    if i=='java':\n",
    "        break\n",
    "    else:\n",
    "        print(i)"
   ]
  },
  {
   "cell_type": "code",
   "execution_count": 13,
   "metadata": {},
   "outputs": [
    {
     "name": "stdout",
     "output_type": "stream",
     "text": [
      "c#\n",
      "python\n",
      "c++\n"
     ]
    }
   ],
   "source": [
    "mylist=['c#','python','java','c++']\n",
    "for i in mylist:\n",
    "    if i=='java':\n",
    "        continue\n",
    "    else:\n",
    "        print(i)"
   ]
  },
  {
   "cell_type": "code",
   "execution_count": 14,
   "metadata": {},
   "outputs": [
    {
     "name": "stdout",
     "output_type": "stream",
     "text": [
      "c#\n",
      "python\n",
      "c++\n"
     ]
    }
   ],
   "source": [
    "mylist=['c#','python','java','c++']\n",
    "for i in mylist:\n",
    "    if i=='java':\n",
    "        pass\n",
    "    else:\n",
    "        print(i)"
   ]
  },
  {
   "cell_type": "code",
   "execution_count": 16,
   "metadata": {},
   "outputs": [
    {
     "name": "stdout",
     "output_type": "stream",
     "text": [
      "2\n",
      "3\n",
      "6\n",
      "7\n",
      "2\n",
      "5\n",
      "9\n",
      "3\n",
      "8\n",
      "3\n"
     ]
    }
   ],
   "source": [
    "import random\n",
    "for i in range(0,10):\n",
    "    print(random.randint(1,9))"
   ]
  },
  {
   "cell_type": "code",
   "execution_count": 17,
   "metadata": {},
   "outputs": [
    {
     "name": "stdout",
     "output_type": "stream",
     "text": [
      "0.5218147712661672\n",
      "0.8371112259382967\n",
      "0.3740569088347686\n",
      "0.013550677725814197\n",
      "0.7086597143611796\n",
      "0.9191485221720072\n",
      "0.841203711905395\n",
      "0.5039760884412574\n",
      "0.22599296332010477\n",
      "0.42241684614254094\n"
     ]
    }
   ],
   "source": [
    "import random\n",
    "for i in range(0,10):\n",
    "    print(random.random())"
   ]
  },
  {
   "cell_type": "code",
   "execution_count": null,
   "metadata": {},
   "outputs": [],
   "source": [
    "import random\n",
    "number = random.randint(1,99)\n",
    "while True:\n",
    "    g=input('輸入')\n",
    "    if g =='q':\n",
    "        print('離開')\n",
    "        break\n",
    "    else:\n",
    "        if number==int(g):\n",
    "            print('恭喜')\n",
    "            break\n",
    "        else:\n",
    "            print('錯了')"
   ]
  },
  {
   "cell_type": "code",
   "execution_count": null,
   "metadata": {},
   "outputs": [],
   "source": []
  },
  {
   "cell_type": "code",
   "execution_count": null,
   "metadata": {},
   "outputs": [],
   "source": []
  }
 ],
 "metadata": {
  "kernelspec": {
   "display_name": "Python 3",
   "language": "python",
   "name": "python3"
  },
  "language_info": {
   "codemirror_mode": {
    "name": "ipython",
    "version": 3
   },
   "file_extension": ".py",
   "mimetype": "text/x-python",
   "name": "python",
   "nbconvert_exporter": "python",
   "pygments_lexer": "ipython3",
   "version": "3.7.1"
  }
 },
 "nbformat": 4,
 "nbformat_minor": 2
}
