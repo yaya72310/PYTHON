{
 "cells": [
  {
   "cell_type": "markdown",
   "metadata": {},
   "source": [
    "# numpy套件"
   ]
  },
  {
   "cell_type": "code",
   "execution_count": 4,
   "metadata": {},
   "outputs": [
    {
     "name": "stdout",
     "output_type": "stream",
     "text": [
      "[1, 2, 3, 4, 1, 2, 3, 4, 1, 2, 3, 4]\n"
     ]
    }
   ],
   "source": [
    "alist=[1,2,3,4]\n",
    "print(alist*3)"
   ]
  },
  {
   "cell_type": "code",
   "execution_count": 5,
   "metadata": {},
   "outputs": [
    {
     "name": "stdout",
     "output_type": "stream",
     "text": [
      "[ 3  6  9 12 15]\n"
     ]
    }
   ],
   "source": [
    "#numpy套件 ndarry型態 提供element-wise的操作\n",
    "import numpy as np\n",
    "andarray=np.array([1,2,3,4,5])\n",
    "print(andarray*3)"
   ]
  },
  {
   "cell_type": "code",
   "execution_count": 6,
   "metadata": {},
   "outputs": [
    {
     "name": "stdout",
     "output_type": "stream",
     "text": [
      "<class 'numpy.ndarray'>\n",
      "1\n",
      "(5,)\n",
      "int32\n"
     ]
    }
   ],
   "source": [
    "print(type(andarray))\n",
    "print(andarray.ndim)\n",
    "print(andarray.shape)\n",
    "print(andarray.dtype)"
   ]
  },
  {
   "cell_type": "code",
   "execution_count": 7,
   "metadata": {},
   "outputs": [
    {
     "name": "stdout",
     "output_type": "stream",
     "text": [
      "[0. 0. 0. 0. 0. 0. 0.]\n",
      "[[0. 0. 0. 0. 0. 0. 0.]\n",
      " [0. 0. 0. 0. 0. 0. 0.]]\n",
      "[[[1.14904711e-311 9.23902758e-322]\n",
      "  [0.00000000e+000 0.00000000e+000]\n",
      "  [0.00000000e+000 5.02034658e+175]\n",
      "  [9.42822258e-047 2.34453107e-056]\n",
      "  [1.88560240e+185 9.60465760e-071]\n",
      "  [5.01163192e+217 5.49419094e-143]\n",
      "  [1.50008929e+248 1.06396443e+224]]\n",
      "\n",
      " [[1.47765135e+248 4.30625279e-096]\n",
      "  [9.08366793e+223 1.58865811e-076]\n",
      "  [2.37859500e+184 1.05097136e-046]\n",
      "  [4.88944640e-033 2.24729310e+174]\n",
      "  [1.56605686e-076 1.17527017e-047]\n",
      "  [6.37456093e-062 3.12226345e-033]\n",
      "  [1.28625693e+248 4.24948967e-086]]]\n",
      "[0 1 2 3 4 5 6 7 8 9]\n"
     ]
    }
   ],
   "source": [
    "z=np.zeros(7)\n",
    "print(z)#7個元素都為0id ndarray\n",
    "print(np.zeros((2,7)))#12個元素都為0的2d ndarray\n",
    "print(np.empty((2,7,2)))#24個元素都為初始化的值\n",
    "print(np.arange(10))#10個元素為0-9的id ndarray"
   ]
  },
  {
   "cell_type": "markdown",
   "metadata": {},
   "source": [
    "# ndarray進階"
   ]
  },
  {
   "cell_type": "code",
   "execution_count": 8,
   "metadata": {},
   "outputs": [
    {
     "name": "stdout",
     "output_type": "stream",
     "text": [
      "[0 1 2 3 4 5 6 7 8 9]\n",
      "0\n",
      "[0 1 2 3 4]\n"
     ]
    }
   ],
   "source": [
    "myarray=np.arange(10)\n",
    "print(myarray)\n",
    "print(myarray[0])\n",
    "print(myarray[0:5])"
   ]
  },
  {
   "cell_type": "code",
   "execution_count": 9,
   "metadata": {},
   "outputs": [
    {
     "name": "stdout",
     "output_type": "stream",
     "text": [
      "[[0 1 2 3 4]\n",
      " [5 6 7 8 9]]\n",
      "[5 6 7 8 9]\n",
      "[1 6]\n",
      "6\n"
     ]
    }
   ],
   "source": [
    "#2維ndarray取值\n",
    "my2darray = np.array([np.arange(0,5),np.arange(5,10)])\n",
    "print(my2darray)\n",
    "print(my2darray[1,:])#第二列資料\n",
    "print(my2darray[:,1])#第二欄資料\n",
    "print(my2darray[1,1])#第二列第二欄資料"
   ]
  },
  {
   "cell_type": "code",
   "execution_count": 10,
   "metadata": {},
   "outputs": [
    {
     "name": "stdout",
     "output_type": "stream",
     "text": [
      "['Modern web' 'DevOps' 'Cloud' 'big data' 'security' '自我挑戰']\n",
      "[56  8 19 14  6 71]\n"
     ]
    }
   ],
   "source": [
    "#假設有六組\"Modern web\",\"DevOps\",\"Cloud\",\"big data\",\"security\",\"自我挑戰\"\n",
    "#期參加人數分別[56,8,19,14,6,71]\n",
    "groups=[\"Modern web\",\"DevOps\",\"Cloud\",\"big data\",\"security\",\"自我挑戰\"]\n",
    "ironman=[56,8,19,14,6,71]\n",
    "groups_array=np.array(groups)\n",
    "ironman_array=np.array(ironman)\n",
    "print(groups_array)\n",
    "print(ironman_array)"
   ]
  },
  {
   "cell_type": "code",
   "execution_count": 11,
   "metadata": {},
   "outputs": [
    {
     "name": "stdout",
     "output_type": "stream",
     "text": [
      "[ True False  True  True False  True]\n",
      "['Modern web' 'Cloud' 'big data' '自我挑戰']\n",
      "[ True  True  True  True  True False]\n",
      "[56  8 19 14  6]\n"
     ]
    }
   ],
   "source": [
    "#用人數去篩選\n",
    "print(ironman_array >= 10)\n",
    "print(groups_array[ironman_array>=10])\n",
    "print(groups_array !=\"自我挑戰\")\n",
    "print(ironman_array[groups_array !=\"自我挑戰\"])"
   ]
  },
  {
   "cell_type": "markdown",
   "metadata": {},
   "source": [
    "# Ndarray轉智"
   ]
  },
  {
   "cell_type": "code",
   "execution_count": 12,
   "metadata": {},
   "outputs": [
    {
     "name": "stdout",
     "output_type": "stream",
     "text": [
      "[0 1 2 3 4 5 6 7 8 9]\n",
      "[[0 1 2 3 4]\n",
      " [5 6 7 8 9]]\n",
      "[[0 5]\n",
      " [1 6]\n",
      " [2 7]\n",
      " [3 8]\n",
      " [4 9]]\n"
     ]
    }
   ],
   "source": [
    "my1darray=np.arange(10)\n",
    "print(my1darray)\n",
    "my2darray=my1darray.reshape((2,5))\n",
    "print(my2darray)\n",
    "print(my2darray.T)"
   ]
  },
  {
   "cell_type": "code",
   "execution_count": 13,
   "metadata": {},
   "outputs": [
    {
     "name": "stdout",
     "output_type": "stream",
     "text": [
      "[[ 0  1  2  3  4  5]\n",
      " [ 6  7  8  9 10 11]\n",
      " [12 13 14 15 16 17]\n",
      " [18 19 20 21 22 23]]\n"
     ]
    }
   ],
   "source": [
    "print(np.arange(24).reshape(4,6))"
   ]
  },
  {
   "cell_type": "code",
   "execution_count": 14,
   "metadata": {},
   "outputs": [
    {
     "name": "stdout",
     "output_type": "stream",
     "text": [
      "[56.  8. 19. 14.  6. nan]\n"
     ]
    }
   ],
   "source": [
    "#ndarray nan(空值)\n",
    "nanarray=np.array([56,8,19,14,6,np.nan])\n",
    "print(nanarray)"
   ]
  },
  {
   "cell_type": "code",
   "execution_count": null,
   "metadata": {},
   "outputs": [],
   "source": []
  }
 ],
 "metadata": {
  "kernelspec": {
   "display_name": "Python 3",
   "language": "python",
   "name": "python3"
  },
  "language_info": {
   "codemirror_mode": {
    "name": "ipython",
    "version": 3
   },
   "file_extension": ".py",
   "mimetype": "text/x-python",
   "name": "python",
   "nbconvert_exporter": "python",
   "pygments_lexer": "ipython3",
   "version": "3.7.1"
  }
 },
 "nbformat": 4,
 "nbformat_minor": 2
}
